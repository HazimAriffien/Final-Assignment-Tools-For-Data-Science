{
 "cells": [
  {
   "cell_type": "markdown",
   "id": "3bdd5dc9-723a-494a-b4a5-ba2d540fc237",
   "metadata": {},
   "source": [
    "# Data Science Tools and Ecosystem"
   ]
  },
  {
   "cell_type": "markdown",
   "id": "0e74cd21-2b5a-406f-a5ea-5cbe71422025",
   "metadata": {},
   "source": [
    "In this notebook, Data Science Toools and Ecosystem are summarized."
   ]
  },
  {
   "cell_type": "markdown",
   "id": "52740463-94a1-42ca-a917-2a08e830264c",
   "metadata": {},
   "source": [
    "**Objectives:**\n",
    "\n",
    "* List of Popular Languages for Data Science\n",
    "* List of Popular Libraries in Data Science\n",
    "* Executing simple Arithmetic Expressions\n",
    "* Executing Code to convert Minutes to Hours"
   ]
  },
  {
   "cell_type": "markdown",
   "id": "67949ee4-18ee-4ddc-b0a7-dabba8a902b4",
   "metadata": {},
   "source": [
    "Some of the popular languages that Data Scientists use are:\n",
    "\n",
    "1. Python\n",
    "2. R\n",
    "3. Java\n",
    "4. SQL\n",
    "5. Julia\n",
    "6. Scala"
   ]
  },
  {
   "cell_type": "markdown",
   "id": "1594ec23-0c58-4316-b20c-47c303677418",
   "metadata": {},
   "source": [
    "Some of the commonly used libraries by Data Scientists include:\n",
    "\n",
    "1. Pandas\n",
    "2. Numpy\n",
    "3. Matplotlib\n",
    "4. scikit-learn\n",
    "5. xgboost\n",
    "6. tensorflow"
   ]
  },
  {
   "cell_type": "markdown",
   "id": "e60b76b7-8dbb-4f53-b658-6ea0fec6b64e",
   "metadata": {},
   "source": [
    " | Data Science Tools |\n",
    "|--------------------|\n",
    " |Jupyter Notebook|\n",
    " |Jupyterlab |\n",
    " |RStudio |"
   ]
  },
  {
   "cell_type": "markdown",
   "id": "5a48f615-83b2-4e29-95c0-0b8e656d0a98",
   "metadata": {},
   "source": [
    "### Below are a few examples of evaluating arithmetic expressions in Python"
   ]
  },
  {
   "cell_type": "code",
   "execution_count": 3,
   "id": "22ece38d-3841-4bb2-97fa-8417ecc573ca",
   "metadata": {},
   "outputs": [
    {
     "data": {
      "text/plain": [
       "17"
      ]
     },
     "execution_count": 3,
     "metadata": {},
     "output_type": "execute_result"
    }
   ],
   "source": [
    "#This is a simple arithmetic expression to multiply then add integers\n",
    "(3*4)+5"
   ]
  },
  {
   "cell_type": "code",
   "execution_count": 5,
   "id": "103d25f5-67cf-4aef-a90c-beb7098d6c5d",
   "metadata": {},
   "outputs": [
    {
     "data": {
      "text/plain": [
       "3.3333333333333335"
      ]
     },
     "execution_count": 5,
     "metadata": {},
     "output_type": "execute_result"
    }
   ],
   "source": [
    "#This will convert 200 minutes to hours by dividing by 60\n",
    "200/60"
   ]
  },
  {
   "cell_type": "markdown",
   "id": "b92dba44-c0a1-4f11-ba90-08e2d6549b86",
   "metadata": {},
   "source": [
    "## Author\n",
    "<hr style=\"border: none; height: 1px; background-color: #cccccc;\">\n",
    "Hazim Ariffien"
   ]
  }
 ],
 "metadata": {
  "kernelspec": {
   "display_name": "Python [conda env:base] *",
   "language": "python",
   "name": "conda-base-py"
  },
  "language_info": {
   "codemirror_mode": {
    "name": "ipython",
    "version": 3
   },
   "file_extension": ".py",
   "mimetype": "text/x-python",
   "name": "python",
   "nbconvert_exporter": "python",
   "pygments_lexer": "ipython3",
   "version": "3.12.7"
  }
 },
 "nbformat": 4,
 "nbformat_minor": 5
}
